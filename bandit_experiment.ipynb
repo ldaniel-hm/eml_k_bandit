{
 "cells": [
  {
   "metadata": {},
   "cell_type": "markdown",
   "source": [
    "# Estudio comparativo de algoritmos en un problema de k-armed bandit\n",
    "\n",
    "*Description:* El experimento compara el rendimiento de algoritmos epsilon-greedy en un problema de k-armed bandit.\n",
    "Se generan gráficas de recompensas promedio y selecciones óptimas para cada algoritmo.\n",
    "\n",
    "    Author: Luis Daniel Hernández Molinero\n",
    "    Email: ldaniel@um.es\n",
    "    Date: 2025/01/29\n",
    "\n",
    "This software is licensed under the GNU General Public License v3.0 (GPL-3.0),\n",
    "with the additional restriction that it may not be used for commercial purposes.\n",
    "\n",
    "For more details about GPL-3.0: https://www.gnu.org/licenses/gpl-3.0.html\n",
    "\n"
   ],
   "id": "45718ddbdacc17ac"
  },
  {
   "metadata": {},
   "cell_type": "markdown",
   "source": "## Preparación del entorno\n",
   "id": "7c1697e197fa5a08"
  },
  {
   "metadata": {
    "ExecuteTime": {
     "end_time": "2025-01-29T11:39:13.511308Z",
     "start_time": "2025-01-29T11:39:13.352599Z"
    }
   },
   "cell_type": "code",
   "source": [
    "#@title Copiar el repositorio.\n",
    "\n",
    "import os\n",
    "from shutil import rmtree\n",
    "import sys\n",
    "\n",
    "# Cambiar al directorio /content\n",
    "os.chdir('/content')\n",
    "\n",
    "# Verificar si el directorio existe antes de borrarlo\n",
    "if os.path.exists(\"k_bandits\"):  # Asegurar de que el directorio se corresopnde al github\n",
    "    rmtree(\"k_bandits\")\n",
    "\n",
    "!git clone https://github.com/ldaniel-hm/k_bandits.git\n",
    "# Navegar al directorio del proyecto\n",
    "os.chdir('k_bandits')\n",
    "!pwd\n",
    "!ls\n",
    "\n",
    "# Añadir los directorio fuentes al path de Python\n",
    "sys.path.append('/content/algorithms')\n",
    "sys.path.append('/content/arms')\n",
    "\n",
    "# Verificar que se han añadido correctamente\n",
    "print(sys.path)"
   ],
   "id": "bf5905976fb24fe",
   "outputs": [
    {
     "ename": "FileNotFoundError",
     "evalue": "[Errno 2] No such file or directory: '/content'",
     "output_type": "error",
     "traceback": [
      "\u001B[0;31m---------------------------------------------------------------------------\u001B[0m",
      "\u001B[0;31mFileNotFoundError\u001B[0m                         Traceback (most recent call last)",
      "Cell \u001B[0;32mIn[1], line 7\u001B[0m\n\u001B[1;32m      4\u001B[0m \u001B[38;5;28;01mimport\u001B[39;00m\u001B[38;5;250m \u001B[39m\u001B[38;5;21;01msys\u001B[39;00m\n\u001B[1;32m      6\u001B[0m \u001B[38;5;66;03m# Cambiar al directorio /content\u001B[39;00m\n\u001B[0;32m----> 7\u001B[0m \u001B[43mos\u001B[49m\u001B[38;5;241;43m.\u001B[39;49m\u001B[43mchdir\u001B[49m\u001B[43m(\u001B[49m\u001B[38;5;124;43m'\u001B[39;49m\u001B[38;5;124;43m/content\u001B[39;49m\u001B[38;5;124;43m'\u001B[39;49m\u001B[43m)\u001B[49m\n\u001B[1;32m      9\u001B[0m \u001B[38;5;66;03m# Verificar si el directorio existe antes de borrarlo\u001B[39;00m\n\u001B[1;32m     10\u001B[0m \u001B[38;5;28;01mif\u001B[39;00m os\u001B[38;5;241m.\u001B[39mpath\u001B[38;5;241m.\u001B[39mexists(\u001B[38;5;124m\"\u001B[39m\u001B[38;5;124mk_bandits\u001B[39m\u001B[38;5;124m\"\u001B[39m):  \u001B[38;5;66;03m# Asegurar de que el directorio se corresopnde al github\u001B[39;00m\n",
      "\u001B[0;31mFileNotFoundError\u001B[0m: [Errno 2] No such file or directory: '/content'"
     ]
    }
   ],
   "execution_count": 1
  },
  {
   "metadata": {
    "ExecuteTime": {
     "end_time": "2025-01-29T11:46:43.546148Z",
     "start_time": "2025-01-29T11:46:42.696052Z"
    }
   },
   "cell_type": "code",
   "source": [
    "#@title Importamos todas las clases y funciones\n",
    "\n",
    "import numpy as np\n",
    "from typing import List\n",
    "\n",
    "from algorithms import Algorithm, EpsilonGreedy\n",
    "from arms import ArmNormal, Bandit\n",
    "from plotting import plot_average_rewards, plot_optimal_selections\n"
   ],
   "id": "4582eec6",
   "outputs": [],
   "execution_count": 2
  },
  {
   "metadata": {},
   "cell_type": "markdown",
   "source": [
    "## Experimento\n",
    "\n",
    "Cada algoritmo se ejecuta en un problema de k-armed bandit durante un número de pasos de tiempo y ejecuciones determinado.\n",
    "Se comparan los resultados de los algoritmos en términos de recompensa promedio.\n",
    "\n",
    "Por ejemplo. Dado un bandido de k-brazos, se ejecutan dos algoritmos epsilon-greedy con diferentes valores de epsilon. Se estudia la evolución de cada política  en un número de pasos, por ejemplo, mil pasos. Entonces se repite el experimento un número de veces, por ejemplo, 500 veces. Es decir, se ejecutan 500 veces la evolución de cada algoritmo en 1000 pasos. Para cada paso calculamos el promedio de las recoponensas obtenidas en esas 500 veces."
   ],
   "id": "4e67de1a19a3698f"
  },
  {
   "metadata": {},
   "cell_type": "code",
   "outputs": [],
   "execution_count": null,
   "source": [
    "\n",
    "def run_experiment(bandit: Bandit, algorithms: List[Algorithm], steps: int, runs: int):\n",
    "\n",
    "    optimal_arm = bandit.optimal_arm  # Necesario para calcular el porcentaje de selecciones óptimas.\n",
    "\n",
    "    rewards = np.zeros((len(algorithms), steps)) # Matriz para almacenar las recompensas promedio.\n",
    "\n",
    "    # TODO: inicializar optimal_selections como una matriz de ceros de tamaño (len(algorithms), steps).\n",
    "\n",
    "\n",
    "    for run in range(runs):\n",
    "        current_bandit = Bandit(arms=bandit.arms)\n",
    "\n",
    "        for algo in algorithms:\n",
    "            algo.reset() # Reiniciar los valores de los algoritmos.\n",
    "\n",
    "        total_rewards_per_algo = np.zeros(len(algorithms)) # Acumulador de recompensas por algoritmo. Necesario para calcular el promedio.\n",
    "\n",
    "        for step in range(steps):\n",
    "            for idx, algo in enumerate(algorithms):\n",
    "                chosen_arm = algo.select_arm() # Seleccionar un brazo según la política del algoritmo.\n",
    "                reward = current_bandit.pull_arm(chosen_arm) # Obtener la recompensa del brazo seleccionado.\n",
    "                algo.update(chosen_arm, reward) # Actualizar el valor estimado del brazo seleccionado.\n",
    "\n",
    "                rewards[idx, step] += reward # Acumular la recompensa obtenida en la matriz rewards para el algoritmo idx en el paso step.\n",
    "                total_rewards_per_algo[idx] += reward # Acumular la recompensa obtenida en total_rewards_per_algo para el algoritmo idx.\n",
    "\n",
    "                #TODO: modificar optimal_selections cuando el brazo elegido se corresponda con el brazo óptimo optimal_arm\n",
    "\n",
    "\n",
    "    rewards /= runs\n",
    "\n",
    "    # TODO: calcular el porcentaje de selecciones óptimas y almacenar en optimal_selections\n",
    "\n",
    "    return rewards, optimal_selections\n"
   ],
   "id": "7377ca48ee0f5946"
  },
  {
   "metadata": {},
   "cell_type": "markdown",
   "source": "## Ejecución del experimento",
   "id": "3fb5453755a2b2a8"
  },
  {
   "cell_type": "code",
   "execution_count": null,
   "id": "157bf5cc",
   "metadata": {},
   "outputs": [],
   "source": [
    "\n",
    "# Parámetros del experimento\n",
    "seed = 42\n",
    "np.random.seed(seed)  # Fijar la semilla para reproducibilidad\n",
    "\n",
    "k = 10  # Número de brazos\n",
    "steps = 1000  # Número de pasos que se ejecutarán cada algoritmo\n",
    "runs = 500  # Número de ejecuciones\n",
    "\n",
    "# Creación del bandit\n",
    "bandit = Bandit(arms=ArmNormal.generate_arms(k)) # Generar un bandido con k brazos de distribución normal\n",
    "print(bandit)\n",
    "\n",
    "optimal_arm = bandit.optimal_arm\n",
    "print(f\"Optimal arm: {optimal_arm + 1} with expected reward={bandit.get_expected_value(optimal_arm)}\")\n",
    "\n",
    "# Definir los algoritmos a comparar. En este caso son 3 algoritmos epsilon-greedy con diferentes valores de epsilon.\n",
    "algorithms = [EpsilonGreedy(k=k, epsilon=0), EpsilonGreedy(k=k, epsilon=0.01), EpsilonGreedy(k=k, epsilon=0.1)]\n",
    "\n",
    "# Ejecutar el experimento y obtener las recompensas promedio y promedio de las selecciones óptimas\n",
    "rewards, optimal_selections = run_experiment(bandit, algorithms, steps, runs)\n"
   ]
  },
  {
   "metadata": {},
   "cell_type": "markdown",
   "source": "## Visualización de los resultados",
   "id": "573c9612c3b14efb"
  },
  {
   "cell_type": "code",
   "execution_count": null,
   "id": "d3fd68ee",
   "metadata": {},
   "outputs": [],
   "source": [
    "\n",
    "# Graficar los resultados\n",
    "plot_average_rewards(steps, rewards, algorithms)\n",
    "# plot_optimal_selections(steps, optimal_selections, algorithms)\n"
   ]
  },
  {
   "metadata": {},
   "cell_type": "markdown",
   "source": [
    "### Análisis detallado de la imagen\n",
    "\n",
    "La imagen muestra un gráfico de líneas titulado **\"Recompensa Promedio vs Pasos de Tiempo\"**, donde se analiza el desempeño de diferentes estrategias del algoritmo **ε-Greedy** en un entorno de multi-armed bandit. En el eje **x** se representan los **pasos de tiempo**, mientras que en el eje **y** se muestra la **recompensa promedio** obtenida por cada algoritmo.\n",
    "\n",
    "\n",
    "1. **Tres líneas de colores distintos representan diferentes valores de ε en el algoritmo ε-Greedy:**\n",
    "   - **Azul (ε = 0):** Representa una estrategia completamente **explotadora**, es decir, que siempre elige la acción que ha dado la mejor recompensa hasta ahora sin explorar nuevas opciones.\n",
    "   - **Naranja (ε = 0.01):** Representa una estrategia con una pequeña probabilidad del 1% de elegir una acción aleatoria (exploración).\n",
    "   - **Verde (ε = 0.1):** Representa una estrategia con un 10% de probabilidad de explorar acciones aleatorias.\n",
    "\n",
    "2. **Crecimiento de la recompensa promedio:**\n",
    "   - La línea **verde (ε=0.1)** alcanza rápidamente una recompensa promedio alta, lo que indica que la estrategia con mayor exploración aprende más rápido qué brazos del bandit son óptimos.\n",
    "   - La línea **naranja (ε=0.01)** también muestra un crecimiento, pero más lento en comparación con ε=0.1.\n",
    "   - La línea **azul (ε=0)** se mantiene en un nivel bajo de recompensa, lo que sugiere que no logra encontrar el mejor brazo porque no explora nuevas opciones.\n",
    "\n",
    "---\n",
    "\n",
    "\n",
    "\n"
   ],
   "id": "29fcd95b7fca79de"
  },
  {
   "metadata": {},
   "cell_type": "markdown",
   "source": [
    "## Conclusiones\n",
    "\n",
    "Hemos estudiado un  **experimento de toma de decisiones secuenciales**, modelado con un **Multi-Armed Bandit (MAB)**. Este problema es fundamental en el aprendizaje por refuerzo y la teoría de decisiones. La idea principal es que un agente debe aprender cuál es la mejor acción (brazo del bandit) a partir de la experiencia acumulada. Para este estudio nos hemos centrado solo en el estudio del algoritmo epsilon-greedy, llegando a las siguientes conclusiones a partir de los resultados obtenidos y la gráfica generada:\n",
    "\n",
    "#### **1. Exploración vs Explotación**\n",
    "El algoritmo **ε-Greedy** equilibra la exploración y la explotación:\n",
    "- **Explotación (ε=0)**: Siempre elige la mejor opción conocida, pero si inicialmente se selecciona un brazo subóptimo, nunca descubrirá otras opciones más rentables.\n",
    "- **Exploración (ε>0)**: Introduce aleatoriedad en la selección de acciones para descubrir nuevas opciones potencialmente mejores.\n",
    "\n",
    "El gráfico confirma este comportamiento:\n",
    "- **ε=0.1 (verde)** obtiene la mejor recompensa promedio a lo largo del tiempo porque explora lo suficiente como para encontrar rápidamente el mejor brazo.\n",
    "- **ε=0.01 (naranja)** explora menos, por lo que tarda más en converger a una recompensa alta.\n",
    "- **ε=0 (azul)** no explora en absoluto y queda atrapado en una recompensa subóptima.\n",
    "\n",
    "#### **2. Convergencia de los algoritmos**\n",
    "Los algoritmos con mayor exploración (ε=0.1) alcanzan una recompensa alta más rápido. Esto se debe a que:\n",
    "- Al principio, el algoritmo **no tiene información suficiente** sobre cuál es el mejor brazo.\n",
    "- Con el tiempo, al realizar exploraciones, descubre cuál es el mejor brazo y empieza a explotarlo más.\n",
    "- Un **balance entre exploración y explotación** es clave para maximizar la recompensa a largo plazo.\n",
    "\n",
    "Este comportamiento se basa en la teoría del **regret** en aprendizaje por refuerzo, que mide la diferencia entre la recompensa obtenida y la recompensa que se habría obtenido si se hubiese seleccionado siempre la mejor opción.\n",
    "\n",
    "#### **3. Aplicaciones y conclusiones**\n",
    "- En problemas de toma de decisiones **(ejemplo: recomendaciones, optimización de anuncios, medicina personalizada)**, una estrategia de exploración moderada como **ε=0.1** es más efectiva para encontrar la mejor opción rápidamente.\n",
    "- **La falta de exploración (ε=0)** lleva a un desempeño deficiente, ya que el agente puede quedarse atrapado en una elección subóptima.\n",
    "\n",
    "En conclusión, **el gráfico muestra cómo un nivel adecuado de exploración mejora significativamente el rendimiento del algoritmo en un entorno de aprendizaje por refuerzo**. 🚀"
   ],
   "id": "4207366e56a23449"
  }
 ],
 "metadata": {
  "kernelspec": {
   "name": "python3",
   "language": "python",
   "display_name": "Python 3 (ipykernel)"
  }
 },
 "nbformat": 4,
 "nbformat_minor": 5
}
